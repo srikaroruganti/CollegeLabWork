{
 "cells": [
  {
   "cell_type": "code",
   "execution_count": 1,
   "metadata": {
    "id": "vLECeNFYz2ad"
   },
   "outputs": [],
   "source": [
    "import pandas as pd"
   ]
  },
  {
   "cell_type": "code",
   "execution_count": 2,
   "metadata": {
    "id": "GKCQvb6n2P34"
   },
   "outputs": [],
   "source": [
    "# 1) a) Read Raisin_Dataset using Pandas and display First 5 rows.\n",
    "df = pd.read_excel(\"/Users/Srikar/Documents/Semester 5/AI/Lab/Dataset/Raisin_Dataset.xlsx\")"
   ]
  },
  {
   "cell_type": "code",
   "execution_count": 3,
   "metadata": {
    "colab": {
     "base_uri": "https://localhost:8080/",
     "height": 204
    },
    "id": "6MSvtX5c2Xte",
    "outputId": "3933d2b5-2e5e-44cb-c7f9-de12786cd154"
   },
   "outputs": [
    {
     "data": {
      "text/html": [
       "<div>\n",
       "<style scoped>\n",
       "    .dataframe tbody tr th:only-of-type {\n",
       "        vertical-align: middle;\n",
       "    }\n",
       "\n",
       "    .dataframe tbody tr th {\n",
       "        vertical-align: top;\n",
       "    }\n",
       "\n",
       "    .dataframe thead th {\n",
       "        text-align: right;\n",
       "    }\n",
       "</style>\n",
       "<table border=\"1\" class=\"dataframe\">\n",
       "  <thead>\n",
       "    <tr style=\"text-align: right;\">\n",
       "      <th></th>\n",
       "      <th>Area</th>\n",
       "      <th>MajorAxisLength</th>\n",
       "      <th>MinorAxisLength</th>\n",
       "      <th>Eccentricity</th>\n",
       "      <th>ConvexArea</th>\n",
       "      <th>Extent</th>\n",
       "      <th>Perimeter</th>\n",
       "      <th>Class</th>\n",
       "    </tr>\n",
       "  </thead>\n",
       "  <tbody>\n",
       "    <tr>\n",
       "      <th>0</th>\n",
       "      <td>87524</td>\n",
       "      <td>442.246011</td>\n",
       "      <td>253.291155</td>\n",
       "      <td>0.819738</td>\n",
       "      <td>90546</td>\n",
       "      <td>0.758651</td>\n",
       "      <td>1184.040</td>\n",
       "      <td>Kecimen</td>\n",
       "    </tr>\n",
       "    <tr>\n",
       "      <th>1</th>\n",
       "      <td>75166</td>\n",
       "      <td>406.690687</td>\n",
       "      <td>243.032436</td>\n",
       "      <td>0.801805</td>\n",
       "      <td>78789</td>\n",
       "      <td>0.684130</td>\n",
       "      <td>1121.786</td>\n",
       "      <td>Kecimen</td>\n",
       "    </tr>\n",
       "    <tr>\n",
       "      <th>2</th>\n",
       "      <td>90856</td>\n",
       "      <td>442.267048</td>\n",
       "      <td>266.328318</td>\n",
       "      <td>0.798354</td>\n",
       "      <td>93717</td>\n",
       "      <td>0.637613</td>\n",
       "      <td>1208.575</td>\n",
       "      <td>Kecimen</td>\n",
       "    </tr>\n",
       "    <tr>\n",
       "      <th>3</th>\n",
       "      <td>45928</td>\n",
       "      <td>286.540559</td>\n",
       "      <td>208.760042</td>\n",
       "      <td>0.684989</td>\n",
       "      <td>47336</td>\n",
       "      <td>0.699599</td>\n",
       "      <td>844.162</td>\n",
       "      <td>Kecimen</td>\n",
       "    </tr>\n",
       "    <tr>\n",
       "      <th>4</th>\n",
       "      <td>79408</td>\n",
       "      <td>352.190770</td>\n",
       "      <td>290.827533</td>\n",
       "      <td>0.564011</td>\n",
       "      <td>81463</td>\n",
       "      <td>0.792772</td>\n",
       "      <td>1073.251</td>\n",
       "      <td>Kecimen</td>\n",
       "    </tr>\n",
       "  </tbody>\n",
       "</table>\n",
       "</div>"
      ],
      "text/plain": [
       "    Area  MajorAxisLength  MinorAxisLength  Eccentricity  ConvexArea  \\\n",
       "0  87524       442.246011       253.291155      0.819738       90546   \n",
       "1  75166       406.690687       243.032436      0.801805       78789   \n",
       "2  90856       442.267048       266.328318      0.798354       93717   \n",
       "3  45928       286.540559       208.760042      0.684989       47336   \n",
       "4  79408       352.190770       290.827533      0.564011       81463   \n",
       "\n",
       "     Extent  Perimeter    Class  \n",
       "0  0.758651   1184.040  Kecimen  \n",
       "1  0.684130   1121.786  Kecimen  \n",
       "2  0.637613   1208.575  Kecimen  \n",
       "3  0.699599    844.162  Kecimen  \n",
       "4  0.792772   1073.251  Kecimen  "
      ]
     },
     "execution_count": 3,
     "metadata": {},
     "output_type": "execute_result"
    }
   ],
   "source": [
    "df.head(5)"
   ]
  },
  {
   "cell_type": "code",
   "execution_count": 4,
   "metadata": {
    "colab": {
     "base_uri": "https://localhost:8080/"
    },
    "id": "EVJ25ffy2jDO",
    "outputId": "23e1a9f8-9c40-4a98-cfda-85016de4132b"
   },
   "outputs": [
    {
     "data": {
      "text/plain": [
       "Area               0\n",
       "MajorAxisLength    0\n",
       "MinorAxisLength    0\n",
       "Eccentricity       0\n",
       "ConvexArea         0\n",
       "Extent             0\n",
       "Perimeter          0\n",
       "Class              0\n",
       "dtype: int64"
      ]
     },
     "execution_count": 4,
     "metadata": {},
     "output_type": "execute_result"
    }
   ],
   "source": [
    "# b) Check the presence of Null Values/Missing Values. If present handle them with suitable approach.\n",
    "df.isnull().sum()"
   ]
  },
  {
   "cell_type": "code",
   "execution_count": 5,
   "metadata": {
    "colab": {
     "base_uri": "https://localhost:8080/",
     "height": 419
    },
    "id": "EwmVQJX92q7W",
    "outputId": "b48623ab-97bb-4356-b1f2-3a10b5f9d6ab"
   },
   "outputs": [
    {
     "data": {
      "text/html": [
       "<div>\n",
       "<style scoped>\n",
       "    .dataframe tbody tr th:only-of-type {\n",
       "        vertical-align: middle;\n",
       "    }\n",
       "\n",
       "    .dataframe tbody tr th {\n",
       "        vertical-align: top;\n",
       "    }\n",
       "\n",
       "    .dataframe thead th {\n",
       "        text-align: right;\n",
       "    }\n",
       "</style>\n",
       "<table border=\"1\" class=\"dataframe\">\n",
       "  <thead>\n",
       "    <tr style=\"text-align: right;\">\n",
       "      <th></th>\n",
       "      <th>Area</th>\n",
       "      <th>MajorAxisLength</th>\n",
       "      <th>MinorAxisLength</th>\n",
       "      <th>Eccentricity</th>\n",
       "      <th>ConvexArea</th>\n",
       "      <th>Extent</th>\n",
       "      <th>Perimeter</th>\n",
       "      <th>Class</th>\n",
       "    </tr>\n",
       "  </thead>\n",
       "  <tbody>\n",
       "    <tr>\n",
       "      <th>0</th>\n",
       "      <td>87524</td>\n",
       "      <td>442.246011</td>\n",
       "      <td>253.291155</td>\n",
       "      <td>0.819738</td>\n",
       "      <td>90546</td>\n",
       "      <td>0.758651</td>\n",
       "      <td>1184.040</td>\n",
       "      <td>1</td>\n",
       "    </tr>\n",
       "    <tr>\n",
       "      <th>1</th>\n",
       "      <td>75166</td>\n",
       "      <td>406.690687</td>\n",
       "      <td>243.032436</td>\n",
       "      <td>0.801805</td>\n",
       "      <td>78789</td>\n",
       "      <td>0.684130</td>\n",
       "      <td>1121.786</td>\n",
       "      <td>1</td>\n",
       "    </tr>\n",
       "    <tr>\n",
       "      <th>2</th>\n",
       "      <td>90856</td>\n",
       "      <td>442.267048</td>\n",
       "      <td>266.328318</td>\n",
       "      <td>0.798354</td>\n",
       "      <td>93717</td>\n",
       "      <td>0.637613</td>\n",
       "      <td>1208.575</td>\n",
       "      <td>1</td>\n",
       "    </tr>\n",
       "    <tr>\n",
       "      <th>3</th>\n",
       "      <td>45928</td>\n",
       "      <td>286.540559</td>\n",
       "      <td>208.760042</td>\n",
       "      <td>0.684989</td>\n",
       "      <td>47336</td>\n",
       "      <td>0.699599</td>\n",
       "      <td>844.162</td>\n",
       "      <td>1</td>\n",
       "    </tr>\n",
       "    <tr>\n",
       "      <th>4</th>\n",
       "      <td>79408</td>\n",
       "      <td>352.190770</td>\n",
       "      <td>290.827533</td>\n",
       "      <td>0.564011</td>\n",
       "      <td>81463</td>\n",
       "      <td>0.792772</td>\n",
       "      <td>1073.251</td>\n",
       "      <td>1</td>\n",
       "    </tr>\n",
       "    <tr>\n",
       "      <th>...</th>\n",
       "      <td>...</td>\n",
       "      <td>...</td>\n",
       "      <td>...</td>\n",
       "      <td>...</td>\n",
       "      <td>...</td>\n",
       "      <td>...</td>\n",
       "      <td>...</td>\n",
       "      <td>...</td>\n",
       "    </tr>\n",
       "    <tr>\n",
       "      <th>895</th>\n",
       "      <td>83248</td>\n",
       "      <td>430.077308</td>\n",
       "      <td>247.838695</td>\n",
       "      <td>0.817263</td>\n",
       "      <td>85839</td>\n",
       "      <td>0.668793</td>\n",
       "      <td>1129.072</td>\n",
       "      <td>0</td>\n",
       "    </tr>\n",
       "    <tr>\n",
       "      <th>896</th>\n",
       "      <td>87350</td>\n",
       "      <td>440.735698</td>\n",
       "      <td>259.293149</td>\n",
       "      <td>0.808629</td>\n",
       "      <td>90899</td>\n",
       "      <td>0.636476</td>\n",
       "      <td>1214.252</td>\n",
       "      <td>0</td>\n",
       "    </tr>\n",
       "    <tr>\n",
       "      <th>897</th>\n",
       "      <td>99657</td>\n",
       "      <td>431.706981</td>\n",
       "      <td>298.837323</td>\n",
       "      <td>0.721684</td>\n",
       "      <td>106264</td>\n",
       "      <td>0.741099</td>\n",
       "      <td>1292.828</td>\n",
       "      <td>0</td>\n",
       "    </tr>\n",
       "    <tr>\n",
       "      <th>898</th>\n",
       "      <td>93523</td>\n",
       "      <td>476.344094</td>\n",
       "      <td>254.176054</td>\n",
       "      <td>0.845739</td>\n",
       "      <td>97653</td>\n",
       "      <td>0.658798</td>\n",
       "      <td>1258.548</td>\n",
       "      <td>0</td>\n",
       "    </tr>\n",
       "    <tr>\n",
       "      <th>899</th>\n",
       "      <td>85609</td>\n",
       "      <td>512.081774</td>\n",
       "      <td>215.271976</td>\n",
       "      <td>0.907345</td>\n",
       "      <td>89197</td>\n",
       "      <td>0.632020</td>\n",
       "      <td>1272.862</td>\n",
       "      <td>0</td>\n",
       "    </tr>\n",
       "  </tbody>\n",
       "</table>\n",
       "<p>900 rows × 8 columns</p>\n",
       "</div>"
      ],
      "text/plain": [
       "      Area  MajorAxisLength  MinorAxisLength  Eccentricity  ConvexArea  \\\n",
       "0    87524       442.246011       253.291155      0.819738       90546   \n",
       "1    75166       406.690687       243.032436      0.801805       78789   \n",
       "2    90856       442.267048       266.328318      0.798354       93717   \n",
       "3    45928       286.540559       208.760042      0.684989       47336   \n",
       "4    79408       352.190770       290.827533      0.564011       81463   \n",
       "..     ...              ...              ...           ...         ...   \n",
       "895  83248       430.077308       247.838695      0.817263       85839   \n",
       "896  87350       440.735698       259.293149      0.808629       90899   \n",
       "897  99657       431.706981       298.837323      0.721684      106264   \n",
       "898  93523       476.344094       254.176054      0.845739       97653   \n",
       "899  85609       512.081774       215.271976      0.907345       89197   \n",
       "\n",
       "       Extent  Perimeter  Class  \n",
       "0    0.758651   1184.040      1  \n",
       "1    0.684130   1121.786      1  \n",
       "2    0.637613   1208.575      1  \n",
       "3    0.699599    844.162      1  \n",
       "4    0.792772   1073.251      1  \n",
       "..        ...        ...    ...  \n",
       "895  0.668793   1129.072      0  \n",
       "896  0.636476   1214.252      0  \n",
       "897  0.741099   1292.828      0  \n",
       "898  0.658798   1258.548      0  \n",
       "899  0.632020   1272.862      0  \n",
       "\n",
       "[900 rows x 8 columns]"
      ]
     },
     "execution_count": 5,
     "metadata": {},
     "output_type": "execute_result"
    }
   ],
   "source": [
    "# c) Covert the Class value into discrete: Kecimen as ‘0’ and Besni raisin as ‘1’ class.\n",
    "from sklearn import preprocessing\n",
    "le = preprocessing.LabelEncoder()\n",
    "df[\"Class\"] = le.fit_transform(df[\"Class\"])\n",
    "df"
   ]
  },
  {
   "cell_type": "code",
   "execution_count": 6,
   "metadata": {
    "colab": {
     "base_uri": "https://localhost:8080/"
    },
    "id": "G_E-y6Mr3KbB",
    "outputId": "103688a2-fc41-4018-db67-984153cd202e"
   },
   "outputs": [
    {
     "name": "stdout",
     "output_type": "stream",
     "text": [
      "Index(['Area', 'MajorAxisLength', 'MinorAxisLength', 'Eccentricity',\n",
      "       'ConvexArea', 'Extent', 'Perimeter'],\n",
      "      dtype='object') \n",
      "\n",
      "Class\n"
     ]
    }
   ],
   "source": [
    "# 2. Split the dataset into 80% for training and rest 20% for testing (sklearn.model_selection.train_test_split function)\n",
    "X=df.iloc[:,:-1]\n",
    "Y=df.iloc[:,-1]\n",
    "print(X.columns,\"\\n\")\n",
    "print(Y.name)"
   ]
  },
  {
   "cell_type": "code",
   "execution_count": 7,
   "metadata": {
    "id": "Z8SzRPQ34BAf"
   },
   "outputs": [],
   "source": [
    "from sklearn.model_selection import train_test_split\n",
    "x_train,x_test,y_train,y_test=train_test_split(X,Y,test_size=0.2,random_state=42)"
   ]
  },
  {
   "cell_type": "code",
   "execution_count": 8,
   "metadata": {
    "colab": {
     "base_uri": "https://localhost:8080/"
    },
    "id": "vXDmDXkw4E30",
    "outputId": "0a54a172-a519-4996-bbf6-e2aa8987108d"
   },
   "outputs": [
    {
     "data": {
      "text/plain": [
       "(array([4.83865888e+06, 1.00226159e+04, 1.77870097e+03, 1.39765345e+00,\n",
       "        5.06930603e+06, 1.00454649e-01, 2.02022444e+04]),\n",
       " array([0.        , 0.        , 0.        , 0.23711685, 0.        ,\n",
       "        0.75128472, 0.        ]))"
      ]
     },
     "execution_count": 8,
     "metadata": {},
     "output_type": "execute_result"
    }
   ],
   "source": [
    "# d) Check Feature importance using Chi-Square (Hint: sklearn.feature_selection.chi2)\n",
    "from sklearn.feature_selection import chi2\n",
    "chi2(x_train, y_train)"
   ]
  },
  {
   "cell_type": "code",
   "execution_count": 9,
   "metadata": {
    "colab": {
     "base_uri": "https://localhost:8080/",
     "height": 419
    },
    "id": "GJMMfb5p40hy",
    "outputId": "ba5c3210-54af-4295-a43e-70cdbc8e160e"
   },
   "outputs": [
    {
     "data": {
      "text/html": [
       "<div>\n",
       "<style scoped>\n",
       "    .dataframe tbody tr th:only-of-type {\n",
       "        vertical-align: middle;\n",
       "    }\n",
       "\n",
       "    .dataframe tbody tr th {\n",
       "        vertical-align: top;\n",
       "    }\n",
       "\n",
       "    .dataframe thead th {\n",
       "        text-align: right;\n",
       "    }\n",
       "</style>\n",
       "<table border=\"1\" class=\"dataframe\">\n",
       "  <thead>\n",
       "    <tr style=\"text-align: right;\">\n",
       "      <th></th>\n",
       "      <th>Area</th>\n",
       "      <th>MinorAxisLength</th>\n",
       "      <th>Eccentricity</th>\n",
       "      <th>ConvexArea</th>\n",
       "      <th>Extent</th>\n",
       "      <th>Perimeter</th>\n",
       "      <th>Class</th>\n",
       "    </tr>\n",
       "  </thead>\n",
       "  <tbody>\n",
       "    <tr>\n",
       "      <th>0</th>\n",
       "      <td>87524</td>\n",
       "      <td>253.291155</td>\n",
       "      <td>0.819738</td>\n",
       "      <td>90546</td>\n",
       "      <td>0.758651</td>\n",
       "      <td>1184.040</td>\n",
       "      <td>1</td>\n",
       "    </tr>\n",
       "    <tr>\n",
       "      <th>1</th>\n",
       "      <td>75166</td>\n",
       "      <td>243.032436</td>\n",
       "      <td>0.801805</td>\n",
       "      <td>78789</td>\n",
       "      <td>0.684130</td>\n",
       "      <td>1121.786</td>\n",
       "      <td>1</td>\n",
       "    </tr>\n",
       "    <tr>\n",
       "      <th>2</th>\n",
       "      <td>90856</td>\n",
       "      <td>266.328318</td>\n",
       "      <td>0.798354</td>\n",
       "      <td>93717</td>\n",
       "      <td>0.637613</td>\n",
       "      <td>1208.575</td>\n",
       "      <td>1</td>\n",
       "    </tr>\n",
       "    <tr>\n",
       "      <th>3</th>\n",
       "      <td>45928</td>\n",
       "      <td>208.760042</td>\n",
       "      <td>0.684989</td>\n",
       "      <td>47336</td>\n",
       "      <td>0.699599</td>\n",
       "      <td>844.162</td>\n",
       "      <td>1</td>\n",
       "    </tr>\n",
       "    <tr>\n",
       "      <th>4</th>\n",
       "      <td>79408</td>\n",
       "      <td>290.827533</td>\n",
       "      <td>0.564011</td>\n",
       "      <td>81463</td>\n",
       "      <td>0.792772</td>\n",
       "      <td>1073.251</td>\n",
       "      <td>1</td>\n",
       "    </tr>\n",
       "    <tr>\n",
       "      <th>...</th>\n",
       "      <td>...</td>\n",
       "      <td>...</td>\n",
       "      <td>...</td>\n",
       "      <td>...</td>\n",
       "      <td>...</td>\n",
       "      <td>...</td>\n",
       "      <td>...</td>\n",
       "    </tr>\n",
       "    <tr>\n",
       "      <th>895</th>\n",
       "      <td>83248</td>\n",
       "      <td>247.838695</td>\n",
       "      <td>0.817263</td>\n",
       "      <td>85839</td>\n",
       "      <td>0.668793</td>\n",
       "      <td>1129.072</td>\n",
       "      <td>0</td>\n",
       "    </tr>\n",
       "    <tr>\n",
       "      <th>896</th>\n",
       "      <td>87350</td>\n",
       "      <td>259.293149</td>\n",
       "      <td>0.808629</td>\n",
       "      <td>90899</td>\n",
       "      <td>0.636476</td>\n",
       "      <td>1214.252</td>\n",
       "      <td>0</td>\n",
       "    </tr>\n",
       "    <tr>\n",
       "      <th>897</th>\n",
       "      <td>99657</td>\n",
       "      <td>298.837323</td>\n",
       "      <td>0.721684</td>\n",
       "      <td>106264</td>\n",
       "      <td>0.741099</td>\n",
       "      <td>1292.828</td>\n",
       "      <td>0</td>\n",
       "    </tr>\n",
       "    <tr>\n",
       "      <th>898</th>\n",
       "      <td>93523</td>\n",
       "      <td>254.176054</td>\n",
       "      <td>0.845739</td>\n",
       "      <td>97653</td>\n",
       "      <td>0.658798</td>\n",
       "      <td>1258.548</td>\n",
       "      <td>0</td>\n",
       "    </tr>\n",
       "    <tr>\n",
       "      <th>899</th>\n",
       "      <td>85609</td>\n",
       "      <td>215.271976</td>\n",
       "      <td>0.907345</td>\n",
       "      <td>89197</td>\n",
       "      <td>0.632020</td>\n",
       "      <td>1272.862</td>\n",
       "      <td>0</td>\n",
       "    </tr>\n",
       "  </tbody>\n",
       "</table>\n",
       "<p>900 rows × 7 columns</p>\n",
       "</div>"
      ],
      "text/plain": [
       "      Area  MinorAxisLength  Eccentricity  ConvexArea    Extent  Perimeter  \\\n",
       "0    87524       253.291155      0.819738       90546  0.758651   1184.040   \n",
       "1    75166       243.032436      0.801805       78789  0.684130   1121.786   \n",
       "2    90856       266.328318      0.798354       93717  0.637613   1208.575   \n",
       "3    45928       208.760042      0.684989       47336  0.699599    844.162   \n",
       "4    79408       290.827533      0.564011       81463  0.792772   1073.251   \n",
       "..     ...              ...           ...         ...       ...        ...   \n",
       "895  83248       247.838695      0.817263       85839  0.668793   1129.072   \n",
       "896  87350       259.293149      0.808629       90899  0.636476   1214.252   \n",
       "897  99657       298.837323      0.721684      106264  0.741099   1292.828   \n",
       "898  93523       254.176054      0.845739       97653  0.658798   1258.548   \n",
       "899  85609       215.271976      0.907345       89197  0.632020   1272.862   \n",
       "\n",
       "     Class  \n",
       "0        1  \n",
       "1        1  \n",
       "2        1  \n",
       "3        1  \n",
       "4        1  \n",
       "..     ...  \n",
       "895      0  \n",
       "896      0  \n",
       "897      0  \n",
       "898      0  \n",
       "899      0  \n",
       "\n",
       "[900 rows x 7 columns]"
      ]
     },
     "execution_count": 9,
     "metadata": {},
     "output_type": "execute_result"
    }
   ],
   "source": [
    "# e) Discard the least important features using chi-square value.\n",
    "df.drop(['MajorAxisLength'], axis=1)"
   ]
  },
  {
   "cell_type": "code",
   "execution_count": 10,
   "metadata": {
    "id": "S-3nh0tX6hrf"
   },
   "outputs": [],
   "source": [
    "from sklearn.preprocessing import StandardScaler\n",
    "sc = StandardScaler()\n",
    "x_train = sc.fit_transform(x_train)\n",
    "x_test = sc.transform(x_test)"
   ]
  },
  {
   "cell_type": "code",
   "execution_count": 11,
   "metadata": {
    "colab": {
     "base_uri": "https://localhost:8080/"
    },
    "id": "SR1ycyaL5Zeq",
    "outputId": "18bc96bd-1d0d-41f5-a6c7-12ce23fcb7b9"
   },
   "outputs": [
    {
     "data": {
      "text/plain": [
       "DecisionTreeClassifier()"
      ]
     },
     "execution_count": 11,
     "metadata": {},
     "output_type": "execute_result"
    }
   ],
   "source": [
    "# 3. Train DT classifier using built-in function on the training set with default parameters (sklearn.tree.DecisionTreeClassifier)\n",
    "from sklearn.tree import DecisionTreeClassifier\n",
    "clr= DecisionTreeClassifier()  \n",
    "clr.fit(x_train, y_train)"
   ]
  },
  {
   "cell_type": "code",
   "execution_count": 12,
   "metadata": {
    "id": "J7GtKv6967Ju"
   },
   "outputs": [],
   "source": [
    "y_pred= clr.predict(x_test) "
   ]
  },
  {
   "cell_type": "code",
   "execution_count": 13,
   "metadata": {
    "colab": {
     "base_uri": "https://localhost:8080/"
    },
    "id": "R9oeCJB06q2m",
    "outputId": "369f4bab-5b96-4001-de05-e7fa8a4761cf"
   },
   "outputs": [
    {
     "name": "stdout",
     "output_type": "stream",
     "text": [
      "[[68 18]\n",
      " [22 72]]\n"
     ]
    }
   ],
   "source": [
    "# 4. Evaluate the train model using testset with the help of confusion matrix, Accuracy, Precision and Recall.\n",
    "from sklearn.metrics import confusion_matrix  \n",
    "cm= confusion_matrix(y_test, y_pred)  \n",
    "print(cm)"
   ]
  },
  {
   "cell_type": "code",
   "execution_count": 14,
   "metadata": {
    "colab": {
     "base_uri": "https://localhost:8080/"
    },
    "id": "Yrn_qh5P7U3z",
    "outputId": "92e6f6ec-3e3d-4ffb-f1e7-ddc2cc44ef68"
   },
   "outputs": [
    {
     "data": {
      "text/plain": [
       "0.7777777777777778"
      ]
     },
     "execution_count": 14,
     "metadata": {},
     "output_type": "execute_result"
    }
   ],
   "source": [
    "from sklearn.metrics import accuracy_score\n",
    "accuracy_score(y_test, y_pred)"
   ]
  },
  {
   "cell_type": "code",
   "execution_count": 15,
   "metadata": {
    "colab": {
     "base_uri": "https://localhost:8080/"
    },
    "id": "v7nLermy7cS2",
    "outputId": "b7514c32-2f6e-41b0-d38c-64662742f7b9"
   },
   "outputs": [
    {
     "data": {
      "text/plain": [
       "0.8"
      ]
     },
     "execution_count": 15,
     "metadata": {},
     "output_type": "execute_result"
    }
   ],
   "source": [
    "from sklearn.metrics import precision_score\n",
    "precision_score(y_test, y_pred)"
   ]
  },
  {
   "cell_type": "code",
   "execution_count": 16,
   "metadata": {
    "colab": {
     "base_uri": "https://localhost:8080/"
    },
    "id": "WV-gCbhH7jJ_",
    "outputId": "b9f9a913-212a-4206-f954-c8a11bdb411a"
   },
   "outputs": [
    {
     "data": {
      "text/plain": [
       "0.7659574468085106"
      ]
     },
     "execution_count": 16,
     "metadata": {},
     "output_type": "execute_result"
    }
   ],
   "source": [
    "from sklearn.metrics import recall_score\n",
    "recall_score(y_test, y_pred)"
   ]
  },
  {
   "cell_type": "code",
   "execution_count": 17,
   "metadata": {
    "colab": {
     "base_uri": "https://localhost:8080/"
    },
    "id": "qEMKEvy471Oz",
    "outputId": "f76f2f6e-c4ad-47c9-fbce-e6f81ad397bd"
   },
   "outputs": [
    {
     "name": "stdout",
     "output_type": "stream",
     "text": [
      "confusion matrix :  [[69 17]\n",
      " [20 74]]\n",
      "accuracy score :  0.7944444444444444\n",
      "precision score :  0.8131868131868132\n",
      "recall score :  0.7872340425531915\n"
     ]
    }
   ],
   "source": [
    "# 5. Set the criteria as entropy and log_loss and train the model and evaluate it on testset.\n",
    "clr= DecisionTreeClassifier(criterion='entropy')  \n",
    "clr.fit(x_train, y_train)\n",
    "\n",
    "y_pred= clr.predict(x_test) \n",
    "\n",
    "from sklearn.metrics import confusion_matrix, accuracy_score, precision_score, recall_score \n",
    "print(\"confusion matrix : \",confusion_matrix(y_test, y_pred))\n",
    "print(\"accuracy score : \",accuracy_score(y_test, y_pred))\n",
    "print(\"precision score : \",precision_score(y_test, y_pred))\n",
    "print(\"recall score : \",recall_score(y_test, y_pred))"
   ]
  },
  {
   "cell_type": "code",
   "execution_count": 18,
   "metadata": {
    "colab": {
     "base_uri": "https://localhost:8080/",
     "height": 375
    },
    "id": "4bHA06Oo8MlE",
    "outputId": "f5587848-19a7-4de3-8e3d-dd9f5c5bb632"
   },
   "outputs": [],
   "source": [
    "#clr= DecisionTreeClassifier(criterion='log_loss')  \n",
    "#clr.fit(x_train, y_train)\n",
    "\n",
    "#y_pred= clr.predict(x_test) \n",
    "\n",
    "#from sklearn.metrics import confusion_matrix, accuracy_score, precision_score, recall_score \n",
    "#print(\"confusion matrix : \",confusion_matrix(y_test, y_pred))\n",
    "#print(\"accuracy score : \",accuracy_score(y_test, y_pred))\n",
    "#print(\"precision score : \",precision_score(y_test, y_pred))\n",
    "#print(\"recall score : \",recall_score(y_test, y_pred))"
   ]
  },
  {
   "cell_type": "code",
   "execution_count": 19,
   "metadata": {
    "colab": {
     "base_uri": "https://localhost:8080/"
    },
    "id": "YN66ki8286Wk",
    "outputId": "bef508f8-13be-4490-a12b-c0a104f33d9b"
   },
   "outputs": [
    {
     "name": "stdout",
     "output_type": "stream",
     "text": [
      "confusion matrix :  [[69 17]\n",
      " [19 75]]\n",
      "accuracy score :  0.8\n",
      "precision score :  0.8152173913043478\n",
      "recall score :  0.7978723404255319\n"
     ]
    }
   ],
   "source": [
    "# 6. Parameter Tuning:\n",
    "#   a. Try with max_depth as [10, 100]\n",
    "clr= DecisionTreeClassifier(max_depth=10)  \n",
    "clr.fit(x_train, y_train)\n",
    "\n",
    "y_pred= clr.predict(x_test) \n",
    "\n",
    "from sklearn.metrics import confusion_matrix, accuracy_score, precision_score, recall_score \n",
    "print(\"confusion matrix : \",confusion_matrix(y_test, y_pred))\n",
    "print(\"accuracy score : \",accuracy_score(y_test, y_pred))\n",
    "print(\"precision score : \",precision_score(y_test, y_pred))\n",
    "print(\"recall score : \",recall_score(y_test, y_pred))"
   ]
  },
  {
   "cell_type": "code",
   "execution_count": 20,
   "metadata": {
    "colab": {
     "base_uri": "https://localhost:8080/"
    },
    "id": "FxdRTUHB-XtA",
    "outputId": "446f5813-70a9-4fe0-829b-54128a71a302"
   },
   "outputs": [
    {
     "name": "stdout",
     "output_type": "stream",
     "text": [
      "confusion matrix :  [[69 17]\n",
      " [20 74]]\n",
      "accuracy score :  0.7944444444444444\n",
      "precision score :  0.8131868131868132\n",
      "recall score :  0.7872340425531915\n"
     ]
    }
   ],
   "source": [
    "clr= DecisionTreeClassifier(max_depth=100)  \n",
    "clr.fit(x_train, y_train)\n",
    "\n",
    "y_pred= clr.predict(x_test) \n",
    "\n",
    "from sklearn.metrics import confusion_matrix, accuracy_score, precision_score, recall_score \n",
    "print(\"confusion matrix : \",confusion_matrix(y_test, y_pred))\n",
    "print(\"accuracy score : \",accuracy_score(y_test, y_pred))\n",
    "print(\"precision score : \",precision_score(y_test, y_pred))\n",
    "print(\"recall score : \",recall_score(y_test, y_pred))"
   ]
  },
  {
   "cell_type": "code",
   "execution_count": 21,
   "metadata": {
    "colab": {
     "base_uri": "https://localhost:8080/"
    },
    "id": "TBtKpEWy-bhb",
    "outputId": "82e74683-de7b-4768-b68a-0ece643d9c06"
   },
   "outputs": [
    {
     "name": "stdout",
     "output_type": "stream",
     "text": [
      "confusion matrix :  [[71 15]\n",
      " [21 73]]\n",
      "accuracy score :  0.8\n",
      "precision score :  0.8295454545454546\n",
      "recall score :  0.776595744680851\n"
     ]
    }
   ],
   "source": [
    "# b. Min_samples_split as [4, 6,8]\n",
    "clr= DecisionTreeClassifier(min_samples_split=4)  \n",
    "clr.fit(x_train, y_train)\n",
    "\n",
    "y_pred= clr.predict(x_test) \n",
    "\n",
    "from sklearn.metrics import confusion_matrix, accuracy_score, precision_score, recall_score \n",
    "print(\"confusion matrix : \",confusion_matrix(y_test, y_pred))\n",
    "print(\"accuracy score : \",accuracy_score(y_test, y_pred))\n",
    "print(\"precision score : \",precision_score(y_test, y_pred))\n",
    "print(\"recall score : \",recall_score(y_test, y_pred))"
   ]
  },
  {
   "cell_type": "code",
   "execution_count": 22,
   "metadata": {
    "colab": {
     "base_uri": "https://localhost:8080/"
    },
    "id": "FC9U7d25-jR_",
    "outputId": "763bcd74-fc5e-4cc7-ee78-31d602571f2b"
   },
   "outputs": [
    {
     "name": "stdout",
     "output_type": "stream",
     "text": [
      "confusion matrix :  [[70 16]\n",
      " [22 72]]\n",
      "accuracy score :  0.7888888888888889\n",
      "precision score :  0.8181818181818182\n",
      "recall score :  0.7659574468085106\n"
     ]
    }
   ],
   "source": [
    "clr= DecisionTreeClassifier(min_samples_split=6)  \n",
    "clr.fit(x_train, y_train)\n",
    "\n",
    "y_pred= clr.predict(x_test) \n",
    "\n",
    "from sklearn.metrics import confusion_matrix, accuracy_score, precision_score, recall_score \n",
    "print(\"confusion matrix : \",confusion_matrix(y_test, y_pred))\n",
    "print(\"accuracy score : \",accuracy_score(y_test, y_pred))\n",
    "print(\"precision score : \",precision_score(y_test, y_pred))\n",
    "print(\"recall score : \",recall_score(y_test, y_pred))"
   ]
  },
  {
   "cell_type": "code",
   "execution_count": 23,
   "metadata": {
    "colab": {
     "base_uri": "https://localhost:8080/"
    },
    "id": "SuQRYkNX-p_f",
    "outputId": "d79e6c5d-40b3-4c5a-c536-41e0ffdbbdac"
   },
   "outputs": [
    {
     "name": "stdout",
     "output_type": "stream",
     "text": [
      "confusion matrix :  [[70 16]\n",
      " [21 73]]\n",
      "accuracy score :  0.7944444444444444\n",
      "precision score :  0.8202247191011236\n",
      "recall score :  0.776595744680851\n"
     ]
    }
   ],
   "source": [
    "clr= DecisionTreeClassifier(min_samples_split=8)  \n",
    "clr.fit(x_train, y_train)\n",
    "\n",
    "y_pred= clr.predict(x_test) \n",
    "\n",
    "from sklearn.metrics import confusion_matrix, accuracy_score, precision_score, recall_score \n",
    "print(\"confusion matrix : \",confusion_matrix(y_test, y_pred))\n",
    "print(\"accuracy score : \",accuracy_score(y_test, y_pred))\n",
    "print(\"precision score : \",precision_score(y_test, y_pred))\n",
    "print(\"recall score : \",recall_score(y_test, y_pred))"
   ]
  },
  {
   "cell_type": "code",
   "execution_count": 24,
   "metadata": {
    "colab": {
     "base_uri": "https://localhost:8080/"
    },
    "id": "gY_E94PX-sfl",
    "outputId": "1bc9a17a-d36f-4ea9-b401-0709484446ff"
   },
   "outputs": [
    {
     "name": "stdout",
     "output_type": "stream",
     "text": [
      "confusion matrix :  [[72 14]\n",
      " [26 68]]\n",
      "accuracy score :  0.7777777777777778\n",
      "precision score :  0.8292682926829268\n",
      "recall score :  0.723404255319149\n"
     ]
    }
   ],
   "source": [
    "# c. max_features {“auto”, “sqrt”, “log2”}\n",
    "clr= DecisionTreeClassifier(max_features='auto')\n",
    "clr.fit(x_train, y_train)\n",
    "\n",
    "y_pred= clr.predict(x_test) \n",
    "\n",
    "from sklearn.metrics import confusion_matrix, accuracy_score, precision_score, recall_score \n",
    "print(\"confusion matrix : \",confusion_matrix(y_test, y_pred))\n",
    "print(\"accuracy score : \",accuracy_score(y_test, y_pred))\n",
    "print(\"precision score : \",precision_score(y_test, y_pred))\n",
    "print(\"recall score : \",recall_score(y_test, y_pred))"
   ]
  },
  {
   "cell_type": "code",
   "execution_count": 25,
   "metadata": {
    "colab": {
     "base_uri": "https://localhost:8080/"
    },
    "id": "UGlxlqbj_o6i",
    "outputId": "80f9c67b-1bde-4af2-bf99-812c03a3e2d7"
   },
   "outputs": [
    {
     "name": "stdout",
     "output_type": "stream",
     "text": [
      "confusion matrix :  [[74 12]\n",
      " [22 72]]\n",
      "accuracy score :  0.8111111111111111\n",
      "precision score :  0.8571428571428571\n",
      "recall score :  0.7659574468085106\n"
     ]
    }
   ],
   "source": [
    "clr= DecisionTreeClassifier(max_features='sqrt')\n",
    "clr.fit(x_train, y_train)\n",
    "\n",
    "y_pred= clr.predict(x_test) \n",
    "\n",
    "from sklearn.metrics import confusion_matrix, accuracy_score, precision_score, recall_score \n",
    "print(\"confusion matrix : \",confusion_matrix(y_test, y_pred))\n",
    "print(\"accuracy score : \",accuracy_score(y_test, y_pred))\n",
    "print(\"precision score : \",precision_score(y_test, y_pred))\n",
    "print(\"recall score : \",recall_score(y_test, y_pred))"
   ]
  },
  {
   "cell_type": "code",
   "execution_count": 26,
   "metadata": {
    "colab": {
     "base_uri": "https://localhost:8080/"
    },
    "id": "FyJu6ZLHADzD",
    "outputId": "755a1600-233c-4b11-dfea-645f70768834"
   },
   "outputs": [
    {
     "name": "stdout",
     "output_type": "stream",
     "text": [
      "confusion matrix :  [[68 18]\n",
      " [19 75]]\n",
      "accuracy score :  0.7944444444444444\n",
      "precision score :  0.8064516129032258\n",
      "recall score :  0.7978723404255319\n"
     ]
    }
   ],
   "source": [
    "clr= DecisionTreeClassifier(max_features='log2')\n",
    "clr.fit(x_train, y_train)\n",
    "\n",
    "y_pred= clr.predict(x_test) \n",
    "\n",
    "from sklearn.metrics import confusion_matrix, accuracy_score, precision_score, recall_score \n",
    "print(\"confusion matrix : \",confusion_matrix(y_test, y_pred))\n",
    "print(\"accuracy score : \",accuracy_score(y_test, y_pred))\n",
    "print(\"precision score : \",precision_score(y_test, y_pred))\n",
    "print(\"recall score : \",recall_score(y_test, y_pred))"
   ]
  },
  {
   "cell_type": "code",
   "execution_count": 27,
   "metadata": {
    "colab": {
     "base_uri": "https://localhost:8080/"
    },
    "id": "BESm9sZkAGzY",
    "outputId": "82dc5f7c-547f-474f-ff27-9851d9998048"
   },
   "outputs": [
    {
     "name": "stdout",
     "output_type": "stream",
     "text": [
      "confusion matrix :  [[73 13]\n",
      " [24 70]]\n",
      "accuracy score :  0.7944444444444444\n",
      "precision score :  0.8433734939759037\n",
      "recall score :  0.7446808510638298\n"
     ]
    }
   ],
   "source": [
    "# 7. Compare the results and find the best suitable model\n",
    "# the decision tree with max_features = 'auto' is the best classifier\n",
    "clr= DecisionTreeClassifier(max_features='auto')\n",
    "clr.fit(x_train, y_train)\n",
    "\n",
    "y_pred= clr.predict(x_test) \n",
    "\n",
    "from sklearn.metrics import confusion_matrix, accuracy_score, precision_score, recall_score \n",
    "print(\"confusion matrix : \",confusion_matrix(y_test, y_pred))\n",
    "print(\"accuracy score : \",accuracy_score(y_test, y_pred))\n",
    "print(\"precision score : \",precision_score(y_test, y_pred))\n",
    "print(\"recall score : \",recall_score(y_test, y_pred))"
   ]
  },
  {
   "cell_type": "code",
   "execution_count": null,
   "metadata": {},
   "outputs": [],
   "source": []
  }
 ],
 "metadata": {
  "colab": {
   "provenance": []
  },
  "kernelspec": {
   "display_name": "Python 3",
   "language": "python",
   "name": "python3"
  },
  "language_info": {
   "codemirror_mode": {
    "name": "ipython",
    "version": 3
   },
   "file_extension": ".py",
   "mimetype": "text/x-python",
   "name": "python",
   "nbconvert_exporter": "python",
   "pygments_lexer": "ipython3",
   "version": "3.8.3"
  },
  "vscode": {
   "interpreter": {
    "hash": "0dbff59539a9e178a9e430bf5d0019854138126da5810e1f2aaf9eb332d1df84"
   }
  }
 },
 "nbformat": 4,
 "nbformat_minor": 1
}
